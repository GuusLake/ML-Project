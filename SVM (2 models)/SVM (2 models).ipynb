{
 "cells": [
  {
   "cell_type": "markdown",
   "id": "82d2a103",
   "metadata": {},
   "source": [
    "# Importing Necessary Libraries"
   ]
  },
  {
   "cell_type": "code",
   "execution_count": null,
   "id": "de30187a",
   "metadata": {},
   "outputs": [],
   "source": [
    "import cv2 as cv\n",
    "import numpy as np\n",
    "import pandas as pd\n",
    "import matplotlib.pyplot as plt\n",
    "from sklearn import svm\n",
    "from sklearn import metrics\n",
    "from sklearn.model_selection import LeaveOneOut"
   ]
  },
  {
   "cell_type": "markdown",
   "id": "2599f30c",
   "metadata": {},
   "source": [
    "# Data Visualisation"
   ]
  },
  {
   "cell_type": "code",
   "execution_count": null,
   "id": "ed9eb6f8",
   "metadata": {},
   "outputs": [],
   "source": [
    "pix_data = pd.read_csv('mfeat-pix.txt', sep=\"  \", header=None)\n",
    "pix_store_2 = []\n",
    "\n",
    "for i in range(2000):\n",
    "        pic = pix_data.iloc[i, :] \n",
    "        picmatreverse = np.zeros((15,16))\n",
    "        bb = 0\n",
    "        for c in range(16):\n",
    "            for r in range(15):\n",
    "                picmatreverse[r, c] = -pic[bb]\n",
    "                bb += 1\n",
    "        \n",
    "        picmat = np.zeros((15,16))\n",
    "        for k in range(15):\n",
    "            picmat[:, k] = picmatreverse[:, 15-k]\n",
    "        \n",
    "        pix_store_2.append(np.transpose(picmat))\n",
    "        \n",
    "for i in range(10):\n",
    "    for j in range(10):\n",
    "        plt.subplot(10, 10, (i * 10) + j + 1)\n",
    "        plt.pcolor(pix_store_2[200 * i + j], cmap = 'gray')\n",
    "        plt.axis('off')"
   ]
  },
  {
   "cell_type": "markdown",
   "id": "628665da",
   "metadata": {},
   "source": [
    "# Splitting Data"
   ]
  },
  {
   "cell_type": "code",
   "execution_count": null,
   "id": "67567939",
   "metadata": {},
   "outputs": [],
   "source": [
    "trainIndices = []\n",
    "testIndices = []\n",
    "correctLabels = []\n",
    "\n",
    "for i in range(0, 2000, 200):\n",
    "    for j in range(0, 100):\n",
    "        trainIndices.append(i+j)\n",
    "        testIndices.append(i+j+100)\n",
    "\n",
    "for i in range(1,11):\n",
    "    for j in range(1,201):\n",
    "        correctLabels.append(i)\n",
    "\n",
    "correctLabels = np.array(correctLabels)\n",
    "\n",
    "X_train = pd.DataFrame(data = pix_data, index = trainIndices)\n",
    "X_test = pd.DataFrame(data = pix_data, index = testIndices)\n",
    "y_train, y_test = correctLabels[trainIndices], correctLabels[testIndices]"
   ]
  },
  {
   "cell_type": "markdown",
   "id": "1a11f5fb",
   "metadata": {},
   "source": [
    "# SVM model 1"
   ]
  },
  {
   "cell_type": "code",
   "execution_count": null,
   "id": "4b168af8",
   "metadata": {},
   "outputs": [],
   "source": [
    "gammas = [0.01, 0.001, 0.0001, 0.00001]\n",
    "for i in gammas:\n",
    "    svm_classifier = svm.SVC(kernel = 'sigmoid', gamma = i)\n",
    "    svm_classifier.fit(X_train, y_train)\n",
    "    predicted = svm_classifier.predict(X_test)\n",
    "\n",
    "    print(metrics.accuracy_score(y_test, predicted))"
   ]
  },
  {
   "cell_type": "markdown",
   "id": "14e207ec",
   "metadata": {},
   "source": [
    "# Plotting results"
   ]
  },
  {
   "cell_type": "code",
   "execution_count": null,
   "id": "8e50921b",
   "metadata": {},
   "outputs": [],
   "source": [
    "xc = [1, 2, 3, 4]\n",
    "h = [10.5, 59.6, 95.3, 90.4]\n",
    "plt.figure(figsize=(6, 6), dpi=100)\n",
    "plt.ylabel('Pecentage of Accuracy')\n",
    "plt.xlabel('Values of Gamma')\n",
    "plt.title('SVC with Sigmoid Kernel')\n",
    "plt.bar(xc, h, tick_label = ['0.01', '0.001', '0.0001', '0.00001'])"
   ]
  },
  {
   "cell_type": "markdown",
   "id": "ff4c4715",
   "metadata": {},
   "source": [
    "# Leave One Out Cross Validation for model 1"
   ]
  },
  {
   "cell_type": "code",
   "execution_count": null,
   "id": "31036022",
   "metadata": {},
   "outputs": [],
   "source": [
    "loo = LeaveOneOut()\n",
    "loo.get_n_splits(pix_data)\n",
    "svm_classifier = svm.SVC(kernel = 'sigmoid', gamma=0.0001)\n",
    "accuracies = []\n",
    "\n",
    "\n",
    "for train_index, test_index in loo.split(pix_data):\n",
    "    X_train, X_test = pd.DataFrame(data = pix_data, index = train_index), pd.DataFrame(data = pix_data, index = test_index)\n",
    "    y_train, y_test = correctLabels[train_index], correctLabels[test_index]\n",
    "    svm_classifier.fit(X_train, y_train)\n",
    "    predicted = svm_classifier.predict(X_test)\n",
    "    accuracies.append(metrics.accuracy_score(y_test, predicted))"
   ]
  },
  {
   "cell_type": "code",
   "execution_count": null,
   "id": "4dc2c061",
   "metadata": {},
   "outputs": [],
   "source": [
    "print(sum(accuracies)/2000)"
   ]
  },
  {
   "cell_type": "markdown",
   "id": "b016c932",
   "metadata": {},
   "source": [
    "# SVM model 2"
   ]
  },
  {
   "cell_type": "code",
   "execution_count": null,
   "id": "32d419d6",
   "metadata": {},
   "outputs": [],
   "source": [
    "gammas = [0.01, 0.001, 0.0001, 0.00001]\n",
    "X_train = pd.DataFrame(data = pix_data, index = trainIndices)\n",
    "X_test = pd.DataFrame(data = pix_data, index = testIndices)\n",
    "y_train, y_test = correctLabels[trainIndices], correctLabels[testIndices]\n",
    "\n",
    "for i in gammas:\n",
    "    svm_classifier = svm.SVC(kernel = 'rbf', gamma = i)\n",
    "    svm_classifier.fit(X_train, y_train)\n",
    "    predicted = svm_classifier.predict(X_test)\n",
    "\n",
    "    print(metrics.accuracy_score(y_test, predicted))"
   ]
  },
  {
   "cell_type": "markdown",
   "id": "298bcb0f",
   "metadata": {},
   "source": [
    "# Plotting results"
   ]
  },
  {
   "cell_type": "code",
   "execution_count": null,
   "id": "17b4398a",
   "metadata": {},
   "outputs": [],
   "source": [
    "h = [55.6, 97.5, 96.4, 91.1]\n",
    "plt.figure(figsize=(6, 6), dpi=100)\n",
    "plt.ylabel('Pecentage of Accuracy')\n",
    "plt.xlabel('Values of Gamma')\n",
    "plt.title('SVC with rbf Kernel')\n",
    "plt.bar(xc, h, tick_label = ['0.01', '0.001', '0.0001', '0.00001'])"
   ]
  },
  {
   "cell_type": "markdown",
   "id": "ba394ab8",
   "metadata": {},
   "source": [
    "# Leave One Out Cross Validation for model 2"
   ]
  },
  {
   "cell_type": "code",
   "execution_count": null,
   "id": "299f8ace",
   "metadata": {},
   "outputs": [],
   "source": [
    "loo = LeaveOneOut()\n",
    "loo.get_n_splits(pix_data)\n",
    "svm_classifier = svm.SVC(kernel = 'rbf', gamma=0.001)\n",
    "accuracies = []\n",
    "\n",
    "\n",
    "for train_index, test_index in loo.split(pix_data):\n",
    "    X_train, X_test = pd.DataFrame(data = pix_data, index = train_index), pd.DataFrame(data = pix_data, index = test_index)\n",
    "    y_train, y_test = correctLabels[train_index], correctLabels[test_index]\n",
    "    svm_classifier.fit(X_train, y_train)\n",
    "    predicted = svm_classifier.predict(X_test)\n",
    "    accuracies.append(metrics.accuracy_score(y_test, predicted))"
   ]
  },
  {
   "cell_type": "code",
   "execution_count": null,
   "id": "0cba07cd",
   "metadata": {},
   "outputs": [],
   "source": [
    "print(sum(accuracies)/2000)"
   ]
  }
 ],
 "metadata": {
  "kernelspec": {
   "display_name": "Python 3 (ipykernel)",
   "language": "python",
   "name": "python3"
  },
  "language_info": {
   "codemirror_mode": {
    "name": "ipython",
    "version": 3
   },
   "file_extension": ".py",
   "mimetype": "text/x-python",
   "name": "python",
   "nbconvert_exporter": "python",
   "pygments_lexer": "ipython3",
   "version": "3.9.7"
  }
 },
 "nbformat": 4,
 "nbformat_minor": 5
}
